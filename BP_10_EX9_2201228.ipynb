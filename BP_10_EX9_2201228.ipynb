{
  "nbformat": 4,
  "nbformat_minor": 0,
  "metadata": {
    "colab": {
      "provenance": [],
      "authorship_tag": "ABX9TyPeo5iLQ+8aBlAVxaVMVSZ9",
      "include_colab_link": true
    },
    "kernelspec": {
      "name": "python3",
      "display_name": "Python 3"
    },
    "language_info": {
      "name": "python"
    }
  },
  "cells": [
    {
      "cell_type": "markdown",
      "metadata": {
        "id": "view-in-github",
        "colab_type": "text"
      },
      "source": [
        "<a href=\"https://colab.research.google.com/github/lyn12111/BP_10_ch9_2201228/blob/main/BP_10_EX9_2201228.ipynb\" target=\"_parent\"><img src=\"https://colab.research.google.com/assets/colab-badge.svg\" alt=\"Open In Colab\"/></a>"
      ]
    },
    {
      "cell_type": "code",
      "execution_count": null,
      "metadata": {
        "colab": {
          "base_uri": "https://localhost:8080/"
        },
        "id": "rRF5xxQQVjs6",
        "outputId": "7d82cc10-edda-4fcd-855f-90cb1c163d57"
      },
      "outputs": [
        {
          "output_type": "stream",
          "name": "stdout",
          "text": [
            "정수를 입력하시오: 0\n",
            "정수를 입력하시오: 10\n",
            "정수를 입력하시오: 4\n",
            "정수를 입력하시오: 5\n",
            "정수를 입력하시오: 5\n",
            "평균= 4.8\n"
          ]
        }
      ],
      "source": [
        "#1번 문제\n",
        "alist = [] #[]안에 숫자들을 리스트로 정의하는 함수이다.\n",
        "sum = 0\n",
        "for i in range(5): #5번 정수를 받아서 리스트에 숫자를 추가시킨다.\n",
        " i = int(input(\"정수를 입력하시오: \"))\n",
        " alist.append(i) #리스트에 숫자를 추가하는 함수이다.\n",
        "for i in alist: #리스트에 있는 숫자들을 합하도록 한다.\n",
        " sum += i\n",
        "avg = sum/len(alist) #리스트에 있는 숫자들의 합을 숫자 갯 수로 나누어 평균을 낸다.\n",
        "print(\"평균=\", avg)"
      ]
    },
    {
      "cell_type": "code",
      "source": [
        "#2번 문제\n",
        "import random #랜덤으로 정수를 택하는 함수를 시작하도록 한다.\n",
        "counters = [0, 0, 0, 0, 0, 0] #총 6개의 숫자가 있는 리스트를 counters로 이름응 붙인다.\n",
        "\n",
        "for i in range(1000): #1000번 반복되도록 함.\n",
        "  value = random.randint(0, 5) #값이 0~5사이의 값 중 하나로 출력됨.\n",
        "  counters[value] = counters[value] + 1 \n",
        "\n",
        "for i in range(6) :\n",
        "  print(\"주사위가 \", i+1, \"인 경우는 \", counters[i], \"번\")"
      ],
      "metadata": {
        "colab": {
          "base_uri": "https://localhost:8080/"
        },
        "id": "25zKNrjDV7ZX",
        "outputId": "1d59466a-9dac-4948-a946-3870552bc0c9"
      },
      "execution_count": 16,
      "outputs": [
        {
          "output_type": "stream",
          "name": "stdout",
          "text": [
            "주사위가  1 인 경우는  161 번\n",
            "주사위가  2 인 경우는  162 번\n",
            "주사위가  3 인 경우는  163 번\n",
            "주사위가  4 인 경우는  173 번\n",
            "주사위가  5 인 경우는  177 번\n",
            "주사위가  6 인 경우는  164 번\n"
          ]
        }
      ]
    },
    {
      "cell_type": "code",
      "source": [
        "#3번 문제\n",
        "contacts = { }\n",
        "while True:\n",
        "  name = input(\"(입력모드)이름을 입력하시오: \")\n",
        "  if not name:\n",
        "    break;\n",
        "  tel = input(\"전화번호를 입력하시오: \")\n",
        "  contacts[name] = tel\n",
        "while True:\n",
        "  name = input(\"(검색모드)이름을 입력하시오: \")\n",
        "  if not name:\n",
        "    break;\n",
        "\n",
        "  if name in contacts :\n",
        "    print(name, \"의 전화번호는\", contacts[name], \"입니다.\")\n"
      ],
      "metadata": {
        "colab": {
          "base_uri": "https://localhost:8080/"
        },
        "id": "n8xLNLOZWADp",
        "outputId": "d65a857e-4853-4c70-c75e-1b1ec020cc30"
      },
      "execution_count": null,
      "outputs": [
        {
          "name": "stdout",
          "output_type": "stream",
          "text": [
            "이유나 의 전화번호는 010-2267-8929 입니다.\n",
            "ㅇㅇㅇ 의 전화번호는 111-2222 입니다.\n",
            "(검색모드)이름을 입력하시오: \n"
          ]
        }
      ]
    },
    {
      "cell_type": "code",
      "source": [
        "#4번 문제\n",
        "import turtle\n",
        "import random\n",
        "t = turtle.Turtle()\n",
        "t.shape(\"turtle\")\n",
        "def draw_square(x, y, c):\n",
        " t.up()\n",
        " t.goto(x, y)\n",
        " t.down()\n",
        " t.color(\"black\",c)\n",
        " t.begin_fill()\n",
        " t.forward(100)\n",
        " t.left(90)\n",
        " t.forward(100)\n",
        " t.left(90)\n",
        " t.forward(100)\n",
        " t.left(90)\n",
        " t.forward(100)\n",
        " t.left(90)\n",
        " t.end_fill()\n",
        "for c in [\"yellow\", \"red\", \"purple\", \"blue\"]:\n",
        " x = random.randint(-100, 100)\n",
        " y = random.randint(-100, 100)\n",
        " draw_square(x, y, c)"
      ],
      "metadata": {
        "id": "MGnEvzZxYqqV"
      },
      "execution_count": null,
      "outputs": []
    },
    {
      "cell_type": "code",
      "source": [
        "#5번 문제\n",
        "import turtle\n",
        "import random\n",
        "t = turtle.Turtle()\n",
        "s = turtle.Screen()\n",
        "def draw_shape(t, c, length, sides, x, y):\n",
        " t.up()\n",
        " t.goto(x, y)\n",
        " t.down()\n",
        " t.fillcolor(c)\n",
        " angle = 360.0 / sides\n",
        " t.begin_fill()\n",
        " for dist in range(sides):\n",
        " t.forward(length)\n",
        " t.left(angle)\n",
        " t.end_fill()\n",
        "for i in range(10):\n",
        " color = random.choice([ 'white', 'yellow', 'blue', 'skyblue', 'orange', 'green' ])\n",
        " side_length = random.randint(10, 100)\n",
        " sides = random.randint(3, 10)\n",
        " x = random.randint(-200, 200)\n",
        " y = random.randint(-200, 200)\n",
        " draw_shape(t, color, side_length, sides, x, y)"
      ],
      "metadata": {
        "id": "hG8gFjGxYvUG"
      },
      "execution_count": null,
      "outputs": []
    },
    {
      "cell_type": "code",
      "source": [
        "#6번 문제\n",
        "import turtle\n",
        "import random\n",
        "\n",
        "t = turtle.Turtle()\n",
        "s = turtle.Screen()\n",
        "s.bgcolor(\"black\")\n",
        "\n",
        "def draw_star(aturtle, colour, side_length, x, y):\n",
        "  aturtle.color(colour)\n",
        "  aturtle.penup()\n",
        "  aturtle.goto(x, y)\n",
        "  aturtle.pendown()\n",
        "  for i in range(5):\n",
        "    aturtle.begin_fill() #가운데 채워지지 않는 부분이 생기는데 해결방법을 찾을 수 없음.\n",
        "    aturtle.forward(side_length)\n",
        "    aturtle.right(144)\n",
        "    aturtle.forward(side_length)\n",
        "    aturtle.end_fill()\n",
        "\n",
        "for i in range(20):\n",
        "  color = random.choice([ 'white', 'yellow', 'blue', 'skyblue', 'orange', 'green' ])\n",
        "  side_length = random.randint(10, 100)\n",
        "  x = random.randint(-200, 200)\n",
        "  y = random.randint(-200, 200)\n",
        "  draw_star(t, color, side_length, x, y)"
      ],
      "metadata": {
        "id": "TH29Z6g5Y1CL"
      },
      "execution_count": null,
      "outputs": []
    },
    {
      "cell_type": "code",
      "source": [
        "#7번 문제\n",
        "domains = { \"kr\": \"대한민국\", \"us\": \"미국\",\n",
        "           \"jp\": \"일본\", \"de\": \"독일\",\n",
        "           \"sk\": \"슬로바키아\",\n",
        "           \"hu\": \"헝가리\", \"no\": \"노르웨이\" }\n",
        "for k, v in domains.items():\n",
        " print (k, \": \", v)"
      ],
      "metadata": {
        "id": "wVYPDSI9Y16E",
        "colab": {
          "base_uri": "https://localhost:8080/"
        },
        "outputId": "55699999-6505-4741-dd2c-d7587aa55e01"
      },
      "execution_count": 15,
      "outputs": [
        {
          "output_type": "stream",
          "name": "stdout",
          "text": [
            "kr :  대한민국\n",
            "us :  미국\n",
            "jp :  일본\n",
            "de :  독일\n",
            "sk :  슬로바키아\n",
            "hu :  헝가리\n",
            "no :  노르웨이\n"
          ]
        }
      ]
    },
    {
      "cell_type": "code",
      "source": [
        "#8번 문제\n",
        "problems = {'파이썬': '최근에 가장 떠오르는 프로그래밍 언어',\n",
        "            '변수': '데이터를 저장하는 메모리 공간',\n",
        "            '함수': '작업을 수행하는 문장들의 집합에 이름을 붙인것',\n",
        "            '리스트': '서로 관련이 없는 항목들의 모임'} #답과 문제를 연결시켜 놓음\n",
        "def show_words(problems):]\n",
        "  display_message = \"\"\n",
        "  i=1\n",
        "  for word in problems.keys():\n",
        "    display_message += \"(\"+str(i)+\")\"\n",
        "    display_message += word + \" \"\n",
        "    i+=1\n",
        "  print( display_message)\n",
        " \n",
        "for meaning in problems.values():\n",
        "  print(\"다음은 어떤 단어에 대한 설명일까요? \")\n",
        "  print(\"\\\"\"+meaning+\"\\\"\")\n",
        "  correct = False\n",
        "  while not correct:\n",
        "    show_words(problems)\n",
        "    guessed_word = input(\"\")\n",
        "    if problems[guessed_word] == meaning:\n",
        "      print(\"정답입니다. !\")\n",
        "      correct = True\n",
        "    else:\n",
        "      print(\"정답이 아닙니다.\")"
      ],
      "metadata": {
        "id": "3f4VrGkHY5z_",
        "colab": {
          "base_uri": "https://localhost:8080/"
        },
        "outputId": "33de3ea6-996e-4aee-db77-f27eb7fc3316"
      },
      "execution_count": 14,
      "outputs": [
        {
          "output_type": "stream",
          "name": "stdout",
          "text": [
            "다음은 어떤 단어에 대한 설명일까요? \n",
            "\"최근에 가장 떠오르는 프로그래밍 언어\"\n",
            "(1)파이썬 (2)변수 (3)함수 (4)리스트 \n",
            "파이썬\n",
            "정답입니다. !\n",
            "다음은 어떤 단어에 대한 설명일까요? \n",
            "\"데이터를 저장하는 메모리 공간\"\n",
            "(1)파이썬 (2)변수 (3)함수 (4)리스트 \n",
            "변수\n",
            "정답입니다. !\n",
            "다음은 어떤 단어에 대한 설명일까요? \n",
            "\"작업을 수행하는 문장들의 집합에 이름을 붙인것\"\n",
            "(1)파이썬 (2)변수 (3)함수 (4)리스트 \n",
            "함수\n",
            "정답입니다. !\n",
            "다음은 어떤 단어에 대한 설명일까요? \n",
            "\"서로 관련이 없는 항목들의 모임\"\n",
            "(1)파이썬 (2)변수 (3)함수 (4)리스트 \n",
            "리스트\n",
            "정답입니다. !\n"
          ]
        }
      ]
    }
  ]
}